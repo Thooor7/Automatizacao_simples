{
 "cells": [
  {
   "cell_type": "code",
   "execution_count": 7,
   "id": "5e6e689e",
   "metadata": {},
   "outputs": [],
   "source": [
    "from selenium import webdriver\n",
    "\n",
    "navegador = webdriver.Chrome()\n",
    "navegador.get('https://ri.magazineluiza.com.br/')\n",
    "navegador.find_element(\"xpath\", '//*[@id=\"accordionMobile\"]/div[3]/button').click()\n",
    "navegador.find_element(\"xpath\", '//*[@id=\"collapseMobile-3\"]/ul/li[2]/a').click()\n",
    "navegador.find_element(\"xpath\", '//*[@id=\"D6zgNufoU+5cVlyZe/HZng==\"]').click()"
   ]
  },
  {
   "cell_type": "code",
   "execution_count": null,
   "id": "e79388b0",
   "metadata": {},
   "outputs": [],
   "source": []
  },
  {
   "cell_type": "code",
   "execution_count": null,
   "id": "0b8f819d",
   "metadata": {},
   "outputs": [],
   "source": []
  }
 ],
 "metadata": {
  "kernelspec": {
   "display_name": "Python 3 (ipykernel)",
   "language": "python",
   "name": "python3"
  },
  "language_info": {
   "codemirror_mode": {
    "name": "ipython",
    "version": 3
   },
   "file_extension": ".py",
   "mimetype": "text/x-python",
   "name": "python",
   "nbconvert_exporter": "python",
   "pygments_lexer": "ipython3",
   "version": "3.9.13"
  }
 },
 "nbformat": 4,
 "nbformat_minor": 5
}
