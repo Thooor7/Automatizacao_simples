{
 "cells": [
  {
   "cell_type": "code",
   "execution_count": null,
   "id": "1b4b63e7",
   "metadata": {},
   "outputs": [],
   "source": [
    "#Abrir google drive no meu computador\n",
    "#Entrar na minha área de trabalho\n",
    "#Cliquei no arquivo que eu quero fazer backup e arrastei ele\n",
    "#Enquanto estiver arrastando, eu vou mudar para o google drive\n",
    "#Larguei o arquivo no google drive\n",
    "#Esperar 5seg"
   ]
  },
  {
   "cell_type": "code",
   "execution_count": 20,
   "id": "b26db5db",
   "metadata": {},
   "outputs": [],
   "source": [
    "import pyautogui\n",
    "import time\n",
    "import os\n",
    "from selenium import webdriver\n",
    "\n",
    "pyautogui.alert('Automatizando processo. Favor, não usar computado no momento')\n",
    "\n",
    "#busacar arquivo no site da Magazine Luiza \n",
    "navegador = webdriver.Chrome()\n",
    "navegador.get('https://ri.magazineluiza.com.br/')\n",
    "navegador.find_element(\"xpath\", '//*[@id=\"accordionMobile\"]/div[3]/button').click()\n",
    "navegador.find_element(\"xpath\", '//*[@id=\"collapseMobile-3\"]/ul/li[2]/a').click()\n",
    "navegador.find_element(\"xpath\", '//*[@id=\"D6zgNufoU+5cVlyZe/HZng==\"]').click()\n",
    "pyautogui.PAUSE = 0.5\n",
    "\n",
    "#abrir o google drive no meu computador\n",
    "pyautogui.press('winleft')\n",
    "pyautogui.write('chrome')\n",
    "pyautogui.press('enter')\n",
    "time.sleep(1)\n",
    "pyautogui.write('https://drive.google.com/drive/folders/1k_mXFnVtrUmsIBGWXGdnXs6LjzVtHSrp')\n",
    "pyautogui.press('enter')\n",
    "\n",
    "#abrir pasta com o arquivo\n",
    "pyautogui.press('winleft')\n",
    "pyautogui.write('explorador de Arquivos')\n",
    "pyautogui.press('enter')\n",
    "#Mover mouse para selecionar pasta Download\n",
    "pyautogui.moveTo(558, 147)\n",
    "pyautogui.mouseDown()\n",
    "pyautogui.press('enter')\n",
    "\n",
    "#selecionar arquivo\n",
    "pyautogui.moveTo(248, 147)\n",
    "time.sleep(1)\n",
    "pyautogui.mouseDown()\n",
    "pyautogui.moveTo(1042, 773)\n",
    "#arrastando para o google drive// 'hotkey' serve para combinação de duas, ou mais teclas\n",
    "pyautogui.hotkey('alt', 'tab')\n",
    "\n",
    "pyautogui.mouseUp()\n",
    "\n",
    "time.sleep(5)"
   ]
  },
  {
   "cell_type": "code",
   "execution_count": 17,
   "id": "defb388e",
   "metadata": {},
   "outputs": [
    {
     "data": {
      "text/plain": [
       "Point(x=1042, y=773)"
      ]
     },
     "execution_count": 17,
     "metadata": {},
     "output_type": "execute_result"
    }
   ],
   "source": [
    "pyautogui.position()"
   ]
  },
  {
   "cell_type": "code",
   "execution_count": null,
   "id": "d25bc52c",
   "metadata": {},
   "outputs": [],
   "source": []
  }
 ],
 "metadata": {
  "kernelspec": {
   "display_name": "Python 3 (ipykernel)",
   "language": "python",
   "name": "python3"
  },
  "language_info": {
   "codemirror_mode": {
    "name": "ipython",
    "version": 3
   },
   "file_extension": ".py",
   "mimetype": "text/x-python",
   "name": "python",
   "nbconvert_exporter": "python",
   "pygments_lexer": "ipython3",
   "version": "3.9.13"
  }
 },
 "nbformat": 4,
 "nbformat_minor": 5
}
